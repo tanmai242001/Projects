{
 "cells": [
  {
   "cell_type": "markdown",
   "id": "694675e3-6c0f-4ab4-949a-502e7ad122aa",
   "metadata": {},
   "source": [
    "#  skin-cancer-detection"
   ]
  },
  {
   "cell_type": "code",
   "execution_count": 1,
   "id": "dac8ac00-066a-444a-9ad6-7886cdda3ec6",
   "metadata": {
    "_cell_guid": "b1076dfc-b9ad-4769-8c92-a6c4dae69d19",
    "_uuid": "8f2839f25d086af736a60e9eeb907d3b93b6e0e5",
    "papermill": {
     "duration": 12.38651,
     "end_time": "2023-11-09T03:28:57.329346",
     "exception": false,
     "start_time": "2023-11-09T03:28:44.942836",
     "status": "completed"
    },
    "tags": []
   },
   "outputs": [
    {
     "name": "stdout",
     "output_type": "stream",
     "text": [
      "modules loaded\n"
     ]
    }
   ],
   "source": [
    "import os\n",
    "import time\n",
    "import shutil\n",
    "import itertools\n",
    "import random\n",
    "# import data handling tools \n",
    "import cv2\n",
    "import numpy as np\n",
    "import pandas as pd\n",
    "import seaborn as sns\n",
    "sns.set_style('darkgrid')\n",
    "import matplotlib.pyplot as plt\n",
    "# import Deep learning Libraries\n",
    "import tensorflow as tf\n",
    "from tensorflow import keras\n",
    "from tensorflow.keras.layers import Conv2D, MaxPooling2D, Flatten, Dense, Activation, Dropout, BatchNormalization\n",
    "from tensorflow.keras.models import Model, load_model, Sequential\n",
    "from tensorflow.keras.preprocessing.image import ImageDataGenerator\n",
    "from sklearn.metrics import confusion_matrix, classification_report\n",
    "from sklearn.model_selection import train_test_split\n",
    "from tensorflow.keras.optimizers import Adam, Adamax\n",
    "from tensorflow.keras import regularizers\n",
    "from tensorflow.keras.metrics import categorical_crossentropy\n",
    "\n",
    "\n",
    "print ('modules loaded')"
   ]
  },
  {
   "cell_type": "code",
   "execution_count": null,
   "id": "cc5a492d",
   "metadata": {
    "papermill": {
     "duration": 5.798461,
     "end_time": "2023-11-09T03:29:03.137496",
     "exception": false,
     "start_time": "2023-11-09T03:28:57.339035",
     "status": "completed"
    },
    "tags": []
   },
   "outputs": [],
   "source": [
    "data_dir = '/kaggle/input/skin-cancer-mnist-ham10000/hmnist_28_28_RGB.csv'\n",
    "data = pd.read_csv(data_dir)\n",
    "data.head()"
   ]
  },
  {
   "cell_type": "code",
   "execution_count": null,
   "id": "ad41f5ee",
   "metadata": {
    "papermill": {
     "duration": 0.106449,
     "end_time": "2023-11-09T03:29:03.253536",
     "exception": false,
     "start_time": "2023-11-09T03:29:03.147087",
     "status": "completed"
    },
    "tags": []
   },
   "outputs": [],
   "source": [
    "Label = data[\"label\"]\n",
    "Data = data.drop(columns=[\"label\"])"
   ]
  },
  {
   "cell_type": "code",
   "execution_count": null,
   "id": "c8c46205",
   "metadata": {
    "papermill": {
     "duration": 0.028376,
     "end_time": "2023-11-09T03:29:03.291428",
     "exception": false,
     "start_time": "2023-11-09T03:29:03.263052",
     "status": "completed"
    },
    "tags": []
   },
   "outputs": [],
   "source": [
    "data[\"label\"].value_counts()\n"
   ]
  },
  {
   "cell_type": "code",
   "execution_count": null,
   "id": "c8b64b35",
   "metadata": {
    "papermill": {
     "duration": 3.111583,
     "end_time": "2023-11-09T03:29:06.412740",
     "exception": false,
     "start_time": "2023-11-09T03:29:03.301157",
     "status": "completed"
    },
    "tags": []
   },
   "outputs": [],
   "source": [
    "from imblearn.over_sampling import RandomOverSampler   #augmentation\n",
    "\n",
    "oversample = RandomOverSampler()\n",
    "Data, Label  = oversample.fit_resample(Data, Label)\n",
    "Data = np.array(Data).reshape(-1, 28, 28, 3)\n",
    "print('Shape of Data :', Data.shape)"
   ]
  },
  {
   "cell_type": "code",
   "execution_count": null,
   "id": "4efb5afc",
   "metadata": {
    "papermill": {
     "duration": 0.022461,
     "end_time": "2023-11-09T03:29:06.444985",
     "exception": false,
     "start_time": "2023-11-09T03:29:06.422524",
     "status": "completed"
    },
    "tags": []
   },
   "outputs": [],
   "source": [
    "Label = np.array(Label)\n",
    "Label"
   ]
  },
  {
   "cell_type": "code",
   "execution_count": null,
   "id": "8dcfec75",
   "metadata": {
    "papermill": {
     "duration": 0.020377,
     "end_time": "2023-11-09T03:29:06.475993",
     "exception": false,
     "start_time": "2023-11-09T03:29:06.455616",
     "status": "completed"
    },
    "tags": []
   },
   "outputs": [],
   "source": [
    "classes = {4: ('nv', ' melanocytic nevi'),\n",
    "           6: ('mel', 'melanoma'),\n",
    "           2 :('bkl', 'benign keratosis-like lesions'), \n",
    "           1:('bcc' , ' basal cell carcinoma'),\n",
    "           5: ('vasc', ' pyogenic granulomas and hemorrhage'),\n",
    "           0: ('akiec', 'Actinic keratoses and intraepithelial carcinomae'),\n",
    "           3: ('df', 'dermatofibroma')}"
   ]
  },
  {
   "cell_type": "code",
   "execution_count": null,
   "id": "020be94e",
   "metadata": {
    "papermill": {
     "duration": 1.353319,
     "end_time": "2023-11-09T03:29:07.839154",
     "exception": false,
     "start_time": "2023-11-09T03:29:06.485835",
     "status": "completed"
    },
    "tags": []
   },
   "outputs": [],
   "source": [
    "from sklearn.model_selection import train_test_split\n",
    "\n",
    "X_train , X_test , y_train , y_test = train_test_split(Data , Label , test_size = 0.25 , random_state = 49)"
   ]
  },
  {
   "cell_type": "code",
   "execution_count": null,
   "id": "5820fe79",
   "metadata": {
    "papermill": {
     "duration": 0.019844,
     "end_time": "2023-11-09T03:29:07.869785",
     "exception": false,
     "start_time": "2023-11-09T03:29:07.849941",
     "status": "completed"
    },
    "tags": []
   },
   "outputs": [],
   "source": [
    "print(X_train.shape)\n",
    "print(y_train.shape)\n",
    "print(X_test.shape)\n",
    "print(y_test.shape)"
   ]
  },
  {
   "cell_type": "code",
   "execution_count": null,
   "id": "0ed4f67b",
   "metadata": {
    "papermill": {
     "duration": 0.020807,
     "end_time": "2023-11-09T03:29:07.900526",
     "exception": false,
     "start_time": "2023-11-09T03:29:07.879719",
     "status": "completed"
    },
    "tags": []
   },
   "outputs": [],
   "source": [
    "from keras.utils.np_utils import to_categorical\n",
    "y_train = to_categorical(y_train)\n",
    "y_test = to_categorical(y_test)"
   ]
  },
  {
   "cell_type": "code",
   "execution_count": null,
   "id": "38de8d7a",
   "metadata": {
    "papermill": {
     "duration": 0.021035,
     "end_time": "2023-11-09T03:29:07.932050",
     "exception": false,
     "start_time": "2023-11-09T03:29:07.911015",
     "status": "completed"
    },
    "tags": []
   },
   "outputs": [],
   "source": [
    "y_train.shape"
   ]
  },
  {
   "cell_type": "code",
   "execution_count": null,
   "id": "c3bbcce0",
   "metadata": {
    "papermill": {
     "duration": 0.020764,
     "end_time": "2023-11-09T03:29:07.962817",
     "exception": false,
     "start_time": "2023-11-09T03:29:07.942053",
     "status": "completed"
    },
    "tags": []
   },
   "outputs": [],
   "source": [
    "print(y_train[0])"
   ]
  },
  {
   "cell_type": "code",
   "execution_count": null,
   "id": "4799cfdf",
   "metadata": {
    "papermill": {
     "duration": 0.332314,
     "end_time": "2023-11-09T03:29:08.305624",
     "exception": false,
     "start_time": "2023-11-09T03:29:07.973310",
     "status": "completed"
    },
    "tags": []
   },
   "outputs": [],
   "source": [
    "ind= random.randint(1,10000)\n",
    "plt.imshow(X_train[ind], cmap='gray')\n",
    "# plt.axis('off') \n",
    "plt.show()"
   ]
  },
  {
   "cell_type": "code",
   "execution_count": null,
   "id": "4a2a3a98",
   "metadata": {
    "papermill": {
     "duration": 0.02094,
     "end_time": "2023-11-09T03:29:08.337680",
     "exception": false,
     "start_time": "2023-11-09T03:29:08.316740",
     "status": "completed"
    },
    "tags": []
   },
   "outputs": [],
   "source": [
    "# datagen = ImageDataGenerator(rescale=(1./255)\n",
    "#                              ,rotation_range=10\n",
    "#                              ,zoom_range = 0.1\n",
    "#                              ,width_shift_range=0.1\n",
    "#                              ,height_shift_range=0.1)\n",
    "\n",
    "# testgen = ImageDataGenerator(rescale=(1./255))"
   ]
  },
  {
   "cell_type": "code",
   "execution_count": null,
   "id": "df8c0a82",
   "metadata": {
    "papermill": {
     "duration": 0.021786,
     "end_time": "2023-11-09T03:29:08.370273",
     "exception": false,
     "start_time": "2023-11-09T03:29:08.348487",
     "status": "completed"
    },
    "tags": []
   },
   "outputs": [],
   "source": [
    "from keras.callbacks import ReduceLROnPlateau\n",
    "\n",
    "learning_rate_reduction = ReduceLROnPlateau(monitor='val_accuracy'\n",
    "                                            , patience = 2\n",
    "                                            , verbose=1\n",
    "                                            ,factor=0.5\n",
    "                                            , min_lr=0.00001)"
   ]
  },
  {
   "cell_type": "code",
   "execution_count": null,
   "id": "ac2e49b7",
   "metadata": {
    "papermill": {
     "duration": 0.77863,
     "end_time": "2023-11-09T03:29:09.159425",
     "exception": false,
     "start_time": "2023-11-09T03:29:08.380795",
     "status": "completed"
    },
    "tags": []
   },
   "outputs": [],
   "source": [
    "model = keras.models.Sequential()\n",
    "\n",
    "# Create Model Structure\n",
    "model.add(keras.layers.Input(shape=[28, 28, 3]))\n",
    "model.add(keras.layers.Conv2D(32, (3, 3), activation='relu', padding='same', kernel_initializer='he_normal'))\n",
    "model.add(keras.layers.MaxPooling2D())\n",
    "model.add(keras.layers.BatchNormalization())\n",
    "\n",
    "model.add(keras.layers.Conv2D(64, (3, 3), activation='relu', padding='same', kernel_initializer='he_normal'))\n",
    "model.add(keras.layers.Conv2D(64, (3, 3), activation='relu', padding='same', kernel_initializer='he_normal'))\n",
    "model.add(keras.layers.MaxPooling2D())\n",
    "model.add(keras.layers.BatchNormalization())\n",
    "model.add(keras.layers.Conv2D(128, (3, 3), activation='relu', padding='same', kernel_initializer='he_normal'))\n",
    "model.add(keras.layers.Conv2D(128, (3, 3), activation='relu', padding='same', kernel_initializer='he_normal'))\n",
    "model.add(keras.layers.MaxPooling2D())\n",
    "model.add(keras.layers.BatchNormalization())\n",
    "\n",
    "# model.add(keras.layers.Conv2D(256, (3, 3), activation='relu', padding='same', kernel_initializer='he_normal'))\n",
    "# model.add(keras.layers.Conv2D(256, (3, 3), activation='relu', padding='same', kernel_initializer='he_normal'))\n",
    "# model.add(keras.layers.MaxPooling2D())\n",
    "\n",
    "model.add(keras.layers.Flatten())\n",
    "model.add(keras.layers.Dropout(rate=0.2))\n",
    "# model.add(keras.layers.Dense(units=256, activation='relu', kernel_initializer='he_normal'))\n",
    "# model.add(keras.layers.BatchNormalization())\n",
    "\n",
    "model.add(keras.layers.Dense(units=128, activation='relu', kernel_initializer='he_normal'))\n",
    "model.add(keras.layers.BatchNormalization())\n",
    "\n",
    "model.add(keras.layers.Dense(units=64, activation='relu', kernel_initializer='he_normal'))\n",
    "model.add(keras.layers.BatchNormalization())\n",
    "\n",
    "model.add(keras.layers.Dense(units=32, activation='relu', kernel_initializer='he_normal', kernel_regularizer=keras.regularizers.L1L2()))\n",
    "model.add(keras.layers.BatchNormalization())\n",
    "\n",
    "model.add(keras.layers.Dense(units=7, activation='softmax'))\n",
    "model.compile(Adam(learning_rate= 0.001), loss= 'categorical_crossentropy', metrics= ['accuracy'])\n",
    "\n",
    "model.summary()"
   ]
  },
  {
   "cell_type": "code",
   "execution_count": null,
   "id": "14c6f4f4",
   "metadata": {
    "papermill": {
     "duration": 1965.877272,
     "end_time": "2023-11-09T04:01:55.052794",
     "exception": false,
     "start_time": "2023-11-09T03:29:09.175522",
     "status": "completed"
    },
    "tags": []
   },
   "outputs": [],
   "source": [
    "history = model.fit(X_train ,\n",
    "                    y_train ,\n",
    "                    epochs=25 ,\n",
    "                    batch_size=128,\n",
    "                    validation_data=(X_test , y_test) ,\n",
    "                    callbacks=[learning_rate_reduction])\n",
    "#                    )"
   ]
  },
  {
   "cell_type": "code",
   "execution_count": null,
   "id": "43c60f34",
   "metadata": {
    "papermill": {
     "duration": 0.765985,
     "end_time": "2023-11-09T04:01:56.463898",
     "exception": false,
     "start_time": "2023-11-09T04:01:55.697913",
     "status": "completed"
    },
    "tags": []
   },
   "outputs": [],
   "source": [
    "def plot_training(hist):\n",
    "    tr_acc = hist.history['accuracy']\n",
    "    tr_loss = hist.history['loss']\n",
    "    val_acc = hist.history['val_accuracy']\n",
    "    val_loss = hist.history['val_loss']\n",
    "    index_loss = np.argmin(val_loss)\n",
    "    val_lowest = val_loss[index_loss]\n",
    "    index_acc = np.argmax(val_acc)\n",
    "    acc_highest = val_acc[index_acc]\n",
    "\n",
    "    plt.figure(figsize= (20, 8))\n",
    "    plt.style.use('fivethirtyeight')\n",
    "    Epochs = [i+1 for i in range(len(tr_acc))]\n",
    "    loss_label = f'best epoch= {str(index_loss + 1)}'\n",
    "    acc_label = f'best epoch= {str(index_acc + 1)}'\n",
    "    \n",
    "    plt.subplot(1, 2, 1)\n",
    "    plt.plot(Epochs, tr_loss, 'r', label= 'Training loss')\n",
    "    plt.plot(Epochs, val_loss, 'g', label= 'Validation loss')\n",
    "    plt.scatter(index_loss + 1, val_lowest, s= 150, c= 'blue', label= loss_label)\n",
    "    plt.title('Training and Validation Loss')\n",
    "    plt.xlabel('Epochs')\n",
    "    plt.ylabel('Loss')\n",
    "    plt.legend()\n",
    "    \n",
    "    plt.subplot(1, 2, 2)\n",
    "    plt.plot(Epochs, tr_acc, 'r', label= 'Training Accuracy')\n",
    "    plt.plot(Epochs, val_acc, 'g', label= 'Validation Accuracy')\n",
    "    plt.scatter(index_acc + 1 , acc_highest, s= 150, c= 'blue', label= acc_label)\n",
    "    plt.title('Training and Validation Accuracy')\n",
    "    plt.xlabel('Epochs')\n",
    "    plt.ylabel('Accuracy')\n",
    "    plt.legend()\n",
    "    \n",
    "    plt.tight_layout\n",
    "    plt.show()"
   ]
  },
  {
   "cell_type": "code",
   "execution_count": null,
   "id": "e4334d39",
   "metadata": {
    "papermill": {
     "duration": 1.522978,
     "end_time": "2023-11-09T04:01:58.644947",
     "exception": false,
     "start_time": "2023-11-09T04:01:57.121969",
     "status": "completed"
    },
    "tags": []
   },
   "outputs": [],
   "source": [
    "plot_training(history)\n"
   ]
  },
  {
   "cell_type": "code",
   "execution_count": null,
   "id": "fec28a0e",
   "metadata": {
    "papermill": {
     "duration": 51.589,
     "end_time": "2023-11-09T04:02:50.886931",
     "exception": false,
     "start_time": "2023-11-09T04:01:59.297931",
     "status": "completed"
    },
    "tags": []
   },
   "outputs": [],
   "source": [
    "train_score = model.evaluate(X_train, y_train, verbose= 1)\n",
    "test_score = model.evaluate(X_test, y_test, verbose= 1)\n",
    "\n",
    "print(\"Train Loss: \", train_score[0])\n",
    "print(\"Train Accuracy: \", train_score[1])\n",
    "print('-' * 20)\n",
    "print(\"Test Loss: \", test_score[0])\n",
    "print(\"Test Accuracy: \", test_score[1])"
   ]
  },
  {
   "cell_type": "code",
   "execution_count": null,
   "id": "d61571b3",
   "metadata": {
    "papermill": {
     "duration": 9.569001,
     "end_time": "2023-11-09T04:03:01.159969",
     "exception": false,
     "start_time": "2023-11-09T04:02:51.590968",
     "status": "completed"
    },
    "tags": []
   },
   "outputs": [],
   "source": [
    "y_true = np.array(y_test)\n",
    "y_pred = model.predict(X_test)\n",
    "\n",
    "y_pred = np.argmax(y_pred , axis=1)\n",
    "y_true = np.argmax(y_true , axis=1)"
   ]
  },
  {
   "cell_type": "code",
   "execution_count": null,
   "id": "97fedf61",
   "metadata": {
    "papermill": {
     "duration": 0.722464,
     "end_time": "2023-11-09T04:03:02.674653",
     "exception": false,
     "start_time": "2023-11-09T04:03:01.952189",
     "status": "completed"
    },
    "tags": []
   },
   "outputs": [],
   "source": [
    "classes_labels = []\n",
    "for key in classes.keys():\n",
    "    classes_labels.append(key)\n",
    "\n",
    "print(classes_labels)"
   ]
  },
  {
   "cell_type": "code",
   "execution_count": null,
   "id": "838db7d0",
   "metadata": {
    "papermill": {
     "duration": 1.450834,
     "end_time": "2023-11-09T04:03:04.846909",
     "exception": false,
     "start_time": "2023-11-09T04:03:03.396075",
     "status": "completed"
    },
    "tags": []
   },
   "outputs": [],
   "source": [
    "cm = cm = confusion_matrix(y_true, y_pred, labels=classes_labels)\n",
    "\n",
    "plt.figure(figsize= (10, 10))\n",
    "plt.imshow(cm, interpolation= 'nearest', cmap= plt.cm.Blues)\n",
    "plt.title('Confusion Matrix')\n",
    "plt.colorbar()\n",
    "\n",
    "tick_marks = np.arange(len(classes))\n",
    "plt.xticks(tick_marks, classes, rotation= 45)\n",
    "plt.yticks(tick_marks, classes)\n",
    "\n",
    "\n",
    "thresh = cm.max() / 2.\n",
    "for i, j in itertools.product(range(cm.shape[0]), range(cm.shape[1])):\n",
    "    plt.text(j, i, cm[i, j], horizontalalignment= 'center', color= 'white' if cm[i, j] > thresh else 'black')\n",
    "\n",
    "plt.tight_layout()\n",
    "plt.ylabel('True Label')\n",
    "plt.xlabel('Predicted Label')\n",
    "\n",
    "plt.show()"
   ]
  },
  {
   "cell_type": "code",
   "execution_count": null,
   "id": "6e5e7bcd",
   "metadata": {
    "papermill": {
     "duration": 0.842478,
     "end_time": "2023-11-09T04:03:06.402210",
     "exception": false,
     "start_time": "2023-11-09T04:03:05.559732",
     "status": "completed"
    },
    "tags": []
   },
   "outputs": [],
   "source": [
    "model.save('Skin Cancer.h5')"
   ]
  },
  {
   "cell_type": "code",
   "execution_count": null,
   "id": "8b928690",
   "metadata": {
    "papermill": {
     "duration": 6.134283,
     "end_time": "2023-11-09T04:03:13.335334",
     "exception": false,
     "start_time": "2023-11-09T04:03:07.201051",
     "status": "completed"
    },
    "tags": []
   },
   "outputs": [],
   "source": [
    "indices=[]\n",
    "ans=[]\n",
    "for i in range(20):\n",
    "    ind= random.randint(1,10000)\n",
    "    label=np.argmax(model.predict(X_test[ind].reshape(-1,28,28,3)))\n",
    "    print(label,classes[label])\n",
    "    indices.append(ind)\n",
    "    ans.append(label)\n",
    "fig, axes = plt.subplots(4, 5, figsize=(12, 10))\n",
    "axes = axes.flatten()\n",
    "for i, image in enumerate(X_test[indices]):\n",
    "    ax = axes[i]\n",
    "    ax.imshow(image)\n",
    "    ax.set_title(classes[ans[i]][1],fontsize=10)\n",
    "    ax.axis('off')  \n",
    "plt.tight_layout()\n",
    "plt.show()"
   ]
  },
  {
   "cell_type": "code",
   "execution_count": null,
   "id": "5881f035",
   "metadata": {
    "papermill": {
     "duration": 0.729595,
     "end_time": "2023-11-09T04:03:14.791041",
     "exception": false,
     "start_time": "2023-11-09T04:03:14.061446",
     "status": "completed"
    },
    "tags": []
   },
   "outputs": [],
   "source": []
  },
  {
   "cell_type": "code",
   "execution_count": null,
   "id": "0a71b910-fc46-43f9-914f-49be4f9f4c0c",
   "metadata": {},
   "outputs": [],
   "source": []
  }
 ],
 "metadata": {
  "kaggle": {
   "accelerator": "none",
   "dataSources": [
    {
     "datasetId": 54339,
     "sourceId": 104884,
     "sourceType": "datasetVersion"
    }
   ],
   "dockerImageVersionId": 30558,
   "isGpuEnabled": false,
   "isInternetEnabled": false,
   "language": "python",
   "sourceType": "notebook"
  },
  "kernelspec": {
   "display_name": "Python 3 (ipykernel)",
   "language": "python",
   "name": "python3"
  },
  "language_info": {
   "codemirror_mode": {
    "name": "ipython",
    "version": 3
   },
   "file_extension": ".py",
   "mimetype": "text/x-python",
   "name": "python",
   "nbconvert_exporter": "python",
   "pygments_lexer": "ipython3",
   "version": "3.11.9"
  },
  "papermill": {
   "default_parameters": {},
   "duration": 2077.126056,
   "end_time": "2023-11-09T04:03:18.197451",
   "environment_variables": {},
   "exception": null,
   "input_path": "__notebook__.ipynb",
   "output_path": "__notebook__.ipynb",
   "parameters": {},
   "start_time": "2023-11-09T03:28:41.071395",
   "version": "2.4.0"
  }
 },
 "nbformat": 4,
 "nbformat_minor": 5
}
